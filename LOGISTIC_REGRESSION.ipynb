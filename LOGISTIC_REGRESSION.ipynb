{
  "nbformat": 4,
  "nbformat_minor": 5,
  "metadata": {
    "kernelspec": {
      "display_name": "Python 3",
      "language": "python",
      "name": "python3"
    },
    "language_info": {
      "codemirror_mode": {
        "name": "ipython",
        "version": 3
      },
      "file_extension": ".py",
      "mimetype": "text/x-python",
      "name": "python",
      "nbconvert_exporter": "python",
      "pygments_lexer": "ipython3",
      "version": "3.9.5"
    },
    "colab": {
      "name": "LOGISTIC_REGRESSION.ipynb",
      "provenance": [],
      "collapsed_sections": [],
      "include_colab_link": true
    }
  },
  "cells": [
    {
      "cell_type": "markdown",
      "metadata": {
        "id": "view-in-github",
        "colab_type": "text"
      },
      "source": [
        "<a href=\"https://colab.research.google.com/github/vishalkharde/logistic_Regression/blob/main/LOGISTIC_REGRESSION.ipynb\" target=\"_parent\"><img src=\"https://colab.research.google.com/assets/colab-badge.svg\" alt=\"Open In Colab\"/></a>"
      ]
    },
    {
      "cell_type": "code",
      "metadata": {
        "id": "efbeb4c0"
      },
      "source": [
        "import pandas as pd\n",
        "import matplotlib.pyplot  as plt\n",
        "import numpy as np\n",
        "import seaborn as sns\n",
        "from sklearn.metrics import confusion_matrix"
      ],
      "id": "efbeb4c0",
      "execution_count": null,
      "outputs": []
    },
    {
      "cell_type": "code",
      "metadata": {
        "id": "cc1ed3e8"
      },
      "source": [
        "df=pd.read_csv('C:/Users/visha/OneDrive/Desktop/ML_Assignment/Default.csv')"
      ],
      "id": "cc1ed3e8",
      "execution_count": null,
      "outputs": []
    },
    {
      "cell_type": "code",
      "metadata": {
        "scrolled": true,
        "id": "95134204",
        "outputId": "f4561594-0a98-4c39-f7a5-7cd63fb9c924"
      },
      "source": [
        "df.head()"
      ],
      "id": "95134204",
      "execution_count": null,
      "outputs": [
        {
          "data": {
            "text/html": [
              "<div>\n",
              "<style scoped>\n",
              "    .dataframe tbody tr th:only-of-type {\n",
              "        vertical-align: middle;\n",
              "    }\n",
              "\n",
              "    .dataframe tbody tr th {\n",
              "        vertical-align: top;\n",
              "    }\n",
              "\n",
              "    .dataframe thead th {\n",
              "        text-align: right;\n",
              "    }\n",
              "</style>\n",
              "<table border=\"1\" class=\"dataframe\">\n",
              "  <thead>\n",
              "    <tr style=\"text-align: right;\">\n",
              "      <th></th>\n",
              "      <th>Unnamed: 0</th>\n",
              "      <th>default</th>\n",
              "      <th>student</th>\n",
              "      <th>balance</th>\n",
              "      <th>income</th>\n",
              "    </tr>\n",
              "  </thead>\n",
              "  <tbody>\n",
              "    <tr>\n",
              "      <th>0</th>\n",
              "      <td>1</td>\n",
              "      <td>No</td>\n",
              "      <td>No</td>\n",
              "      <td>729.526495</td>\n",
              "      <td>44361.62507</td>\n",
              "    </tr>\n",
              "    <tr>\n",
              "      <th>1</th>\n",
              "      <td>2</td>\n",
              "      <td>No</td>\n",
              "      <td>Yes</td>\n",
              "      <td>817.180407</td>\n",
              "      <td>12106.13470</td>\n",
              "    </tr>\n",
              "    <tr>\n",
              "      <th>2</th>\n",
              "      <td>3</td>\n",
              "      <td>No</td>\n",
              "      <td>No</td>\n",
              "      <td>1073.549164</td>\n",
              "      <td>31767.13895</td>\n",
              "    </tr>\n",
              "    <tr>\n",
              "      <th>3</th>\n",
              "      <td>4</td>\n",
              "      <td>No</td>\n",
              "      <td>No</td>\n",
              "      <td>529.250605</td>\n",
              "      <td>35704.49394</td>\n",
              "    </tr>\n",
              "    <tr>\n",
              "      <th>4</th>\n",
              "      <td>5</td>\n",
              "      <td>No</td>\n",
              "      <td>No</td>\n",
              "      <td>785.655883</td>\n",
              "      <td>38463.49588</td>\n",
              "    </tr>\n",
              "  </tbody>\n",
              "</table>\n",
              "</div>"
            ],
            "text/plain": [
              "   Unnamed: 0 default student      balance       income\n",
              "0           1      No      No   729.526495  44361.62507\n",
              "1           2      No     Yes   817.180407  12106.13470\n",
              "2           3      No      No  1073.549164  31767.13895\n",
              "3           4      No      No   529.250605  35704.49394\n",
              "4           5      No      No   785.655883  38463.49588"
            ]
          },
          "execution_count": 3,
          "metadata": {},
          "output_type": "execute_result"
        }
      ]
    },
    {
      "cell_type": "code",
      "metadata": {
        "scrolled": true,
        "id": "1ef6e171",
        "outputId": "c599d571-5afb-4868-e646-27a774954d56"
      },
      "source": [
        "df.isnull()"
      ],
      "id": "1ef6e171",
      "execution_count": null,
      "outputs": [
        {
          "data": {
            "text/html": [
              "<div>\n",
              "<style scoped>\n",
              "    .dataframe tbody tr th:only-of-type {\n",
              "        vertical-align: middle;\n",
              "    }\n",
              "\n",
              "    .dataframe tbody tr th {\n",
              "        vertical-align: top;\n",
              "    }\n",
              "\n",
              "    .dataframe thead th {\n",
              "        text-align: right;\n",
              "    }\n",
              "</style>\n",
              "<table border=\"1\" class=\"dataframe\">\n",
              "  <thead>\n",
              "    <tr style=\"text-align: right;\">\n",
              "      <th></th>\n",
              "      <th>Unnamed: 0</th>\n",
              "      <th>default</th>\n",
              "      <th>student</th>\n",
              "      <th>balance</th>\n",
              "      <th>income</th>\n",
              "    </tr>\n",
              "  </thead>\n",
              "  <tbody>\n",
              "    <tr>\n",
              "      <th>0</th>\n",
              "      <td>False</td>\n",
              "      <td>False</td>\n",
              "      <td>False</td>\n",
              "      <td>False</td>\n",
              "      <td>False</td>\n",
              "    </tr>\n",
              "    <tr>\n",
              "      <th>1</th>\n",
              "      <td>False</td>\n",
              "      <td>False</td>\n",
              "      <td>False</td>\n",
              "      <td>False</td>\n",
              "      <td>False</td>\n",
              "    </tr>\n",
              "    <tr>\n",
              "      <th>2</th>\n",
              "      <td>False</td>\n",
              "      <td>False</td>\n",
              "      <td>False</td>\n",
              "      <td>False</td>\n",
              "      <td>False</td>\n",
              "    </tr>\n",
              "    <tr>\n",
              "      <th>3</th>\n",
              "      <td>False</td>\n",
              "      <td>False</td>\n",
              "      <td>False</td>\n",
              "      <td>False</td>\n",
              "      <td>False</td>\n",
              "    </tr>\n",
              "    <tr>\n",
              "      <th>4</th>\n",
              "      <td>False</td>\n",
              "      <td>False</td>\n",
              "      <td>False</td>\n",
              "      <td>False</td>\n",
              "      <td>False</td>\n",
              "    </tr>\n",
              "    <tr>\n",
              "      <th>...</th>\n",
              "      <td>...</td>\n",
              "      <td>...</td>\n",
              "      <td>...</td>\n",
              "      <td>...</td>\n",
              "      <td>...</td>\n",
              "    </tr>\n",
              "    <tr>\n",
              "      <th>9995</th>\n",
              "      <td>False</td>\n",
              "      <td>False</td>\n",
              "      <td>False</td>\n",
              "      <td>False</td>\n",
              "      <td>False</td>\n",
              "    </tr>\n",
              "    <tr>\n",
              "      <th>9996</th>\n",
              "      <td>False</td>\n",
              "      <td>False</td>\n",
              "      <td>False</td>\n",
              "      <td>False</td>\n",
              "      <td>False</td>\n",
              "    </tr>\n",
              "    <tr>\n",
              "      <th>9997</th>\n",
              "      <td>False</td>\n",
              "      <td>False</td>\n",
              "      <td>False</td>\n",
              "      <td>False</td>\n",
              "      <td>False</td>\n",
              "    </tr>\n",
              "    <tr>\n",
              "      <th>9998</th>\n",
              "      <td>False</td>\n",
              "      <td>False</td>\n",
              "      <td>False</td>\n",
              "      <td>False</td>\n",
              "      <td>False</td>\n",
              "    </tr>\n",
              "    <tr>\n",
              "      <th>9999</th>\n",
              "      <td>False</td>\n",
              "      <td>False</td>\n",
              "      <td>False</td>\n",
              "      <td>False</td>\n",
              "      <td>False</td>\n",
              "    </tr>\n",
              "  </tbody>\n",
              "</table>\n",
              "<p>10000 rows × 5 columns</p>\n",
              "</div>"
            ],
            "text/plain": [
              "      Unnamed: 0  default  student  balance  income\n",
              "0          False    False    False    False   False\n",
              "1          False    False    False    False   False\n",
              "2          False    False    False    False   False\n",
              "3          False    False    False    False   False\n",
              "4          False    False    False    False   False\n",
              "...          ...      ...      ...      ...     ...\n",
              "9995       False    False    False    False   False\n",
              "9996       False    False    False    False   False\n",
              "9997       False    False    False    False   False\n",
              "9998       False    False    False    False   False\n",
              "9999       False    False    False    False   False\n",
              "\n",
              "[10000 rows x 5 columns]"
            ]
          },
          "execution_count": 4,
          "metadata": {},
          "output_type": "execute_result"
        }
      ]
    },
    {
      "cell_type": "code",
      "metadata": {
        "id": "1194d3e1",
        "outputId": "6e95debd-ce6e-472a-8ae7-fcb1dd4de0f6"
      },
      "source": [
        "df.info()"
      ],
      "id": "1194d3e1",
      "execution_count": null,
      "outputs": [
        {
          "name": "stdout",
          "output_type": "stream",
          "text": [
            "<class 'pandas.core.frame.DataFrame'>\n",
            "RangeIndex: 10000 entries, 0 to 9999\n",
            "Data columns (total 5 columns):\n",
            " #   Column      Non-Null Count  Dtype  \n",
            "---  ------      --------------  -----  \n",
            " 0   Unnamed: 0  10000 non-null  int64  \n",
            " 1   default     10000 non-null  object \n",
            " 2   student     10000 non-null  object \n",
            " 3   balance     10000 non-null  float64\n",
            " 4   income      10000 non-null  float64\n",
            "dtypes: float64(2), int64(1), object(2)\n",
            "memory usage: 390.8+ KB\n"
          ]
        }
      ]
    },
    {
      "cell_type": "markdown",
      "metadata": {
        "id": "1508cf22"
      },
      "source": [
        "default : (categorical: “no”, “yes”, “unknown”)\n",
        "\n",
        "student : (categorical: “no”, “yes”, “unknown”)\n",
        "\n",
        "balance :  numeric values\n",
        "\n",
        "income :   numeric values"
      ],
      "id": "1508cf22"
    },
    {
      "cell_type": "code",
      "metadata": {
        "id": "c22f4c6e"
      },
      "source": [
        "data=df.iloc[:,1:]"
      ],
      "id": "c22f4c6e",
      "execution_count": null,
      "outputs": []
    },
    {
      "cell_type": "code",
      "metadata": {
        "id": "d8824b52",
        "outputId": "dd2011d7-61e2-47f9-cff5-bd250771bdba"
      },
      "source": [
        "data"
      ],
      "id": "d8824b52",
      "execution_count": null,
      "outputs": [
        {
          "data": {
            "text/html": [
              "<div>\n",
              "<style scoped>\n",
              "    .dataframe tbody tr th:only-of-type {\n",
              "        vertical-align: middle;\n",
              "    }\n",
              "\n",
              "    .dataframe tbody tr th {\n",
              "        vertical-align: top;\n",
              "    }\n",
              "\n",
              "    .dataframe thead th {\n",
              "        text-align: right;\n",
              "    }\n",
              "</style>\n",
              "<table border=\"1\" class=\"dataframe\">\n",
              "  <thead>\n",
              "    <tr style=\"text-align: right;\">\n",
              "      <th></th>\n",
              "      <th>default</th>\n",
              "      <th>student</th>\n",
              "      <th>balance</th>\n",
              "      <th>income</th>\n",
              "    </tr>\n",
              "  </thead>\n",
              "  <tbody>\n",
              "    <tr>\n",
              "      <th>0</th>\n",
              "      <td>No</td>\n",
              "      <td>No</td>\n",
              "      <td>729.526495</td>\n",
              "      <td>44361.62507</td>\n",
              "    </tr>\n",
              "    <tr>\n",
              "      <th>1</th>\n",
              "      <td>No</td>\n",
              "      <td>Yes</td>\n",
              "      <td>817.180407</td>\n",
              "      <td>12106.13470</td>\n",
              "    </tr>\n",
              "    <tr>\n",
              "      <th>2</th>\n",
              "      <td>No</td>\n",
              "      <td>No</td>\n",
              "      <td>1073.549164</td>\n",
              "      <td>31767.13895</td>\n",
              "    </tr>\n",
              "    <tr>\n",
              "      <th>3</th>\n",
              "      <td>No</td>\n",
              "      <td>No</td>\n",
              "      <td>529.250605</td>\n",
              "      <td>35704.49394</td>\n",
              "    </tr>\n",
              "    <tr>\n",
              "      <th>4</th>\n",
              "      <td>No</td>\n",
              "      <td>No</td>\n",
              "      <td>785.655883</td>\n",
              "      <td>38463.49588</td>\n",
              "    </tr>\n",
              "    <tr>\n",
              "      <th>...</th>\n",
              "      <td>...</td>\n",
              "      <td>...</td>\n",
              "      <td>...</td>\n",
              "      <td>...</td>\n",
              "    </tr>\n",
              "    <tr>\n",
              "      <th>9995</th>\n",
              "      <td>No</td>\n",
              "      <td>No</td>\n",
              "      <td>711.555020</td>\n",
              "      <td>52992.37891</td>\n",
              "    </tr>\n",
              "    <tr>\n",
              "      <th>9996</th>\n",
              "      <td>No</td>\n",
              "      <td>No</td>\n",
              "      <td>757.962918</td>\n",
              "      <td>19660.72177</td>\n",
              "    </tr>\n",
              "    <tr>\n",
              "      <th>9997</th>\n",
              "      <td>No</td>\n",
              "      <td>No</td>\n",
              "      <td>845.411989</td>\n",
              "      <td>58636.15698</td>\n",
              "    </tr>\n",
              "    <tr>\n",
              "      <th>9998</th>\n",
              "      <td>No</td>\n",
              "      <td>No</td>\n",
              "      <td>1569.009053</td>\n",
              "      <td>36669.11236</td>\n",
              "    </tr>\n",
              "    <tr>\n",
              "      <th>9999</th>\n",
              "      <td>No</td>\n",
              "      <td>Yes</td>\n",
              "      <td>200.922183</td>\n",
              "      <td>16862.95232</td>\n",
              "    </tr>\n",
              "  </tbody>\n",
              "</table>\n",
              "<p>10000 rows × 4 columns</p>\n",
              "</div>"
            ],
            "text/plain": [
              "     default student      balance       income\n",
              "0         No      No   729.526495  44361.62507\n",
              "1         No     Yes   817.180407  12106.13470\n",
              "2         No      No  1073.549164  31767.13895\n",
              "3         No      No   529.250605  35704.49394\n",
              "4         No      No   785.655883  38463.49588\n",
              "...      ...     ...          ...          ...\n",
              "9995      No      No   711.555020  52992.37891\n",
              "9996      No      No   757.962918  19660.72177\n",
              "9997      No      No   845.411989  58636.15698\n",
              "9998      No      No  1569.009053  36669.11236\n",
              "9999      No     Yes   200.922183  16862.95232\n",
              "\n",
              "[10000 rows x 4 columns]"
            ]
          },
          "execution_count": 7,
          "metadata": {},
          "output_type": "execute_result"
        }
      ]
    },
    {
      "cell_type": "code",
      "metadata": {
        "scrolled": true,
        "id": "41df3380",
        "outputId": "fda1bef9-3b5f-4090-d4cc-3b67cb863cc4"
      },
      "source": [
        "data.corr()"
      ],
      "id": "41df3380",
      "execution_count": null,
      "outputs": [
        {
          "data": {
            "text/html": [
              "<div>\n",
              "<style scoped>\n",
              "    .dataframe tbody tr th:only-of-type {\n",
              "        vertical-align: middle;\n",
              "    }\n",
              "\n",
              "    .dataframe tbody tr th {\n",
              "        vertical-align: top;\n",
              "    }\n",
              "\n",
              "    .dataframe thead th {\n",
              "        text-align: right;\n",
              "    }\n",
              "</style>\n",
              "<table border=\"1\" class=\"dataframe\">\n",
              "  <thead>\n",
              "    <tr style=\"text-align: right;\">\n",
              "      <th></th>\n",
              "      <th>balance</th>\n",
              "      <th>income</th>\n",
              "    </tr>\n",
              "  </thead>\n",
              "  <tbody>\n",
              "    <tr>\n",
              "      <th>balance</th>\n",
              "      <td>1.000000</td>\n",
              "      <td>-0.152243</td>\n",
              "    </tr>\n",
              "    <tr>\n",
              "      <th>income</th>\n",
              "      <td>-0.152243</td>\n",
              "      <td>1.000000</td>\n",
              "    </tr>\n",
              "  </tbody>\n",
              "</table>\n",
              "</div>"
            ],
            "text/plain": [
              "          balance    income\n",
              "balance  1.000000 -0.152243\n",
              "income  -0.152243  1.000000"
            ]
          },
          "execution_count": 8,
          "metadata": {},
          "output_type": "execute_result"
        }
      ]
    },
    {
      "cell_type": "code",
      "metadata": {
        "id": "8120e690"
      },
      "source": [
        "student_balance=[0]*len(df['student'])\n",
        "for i in range (0,len(df['student'])):\n",
        "    if df[\"student\"][i]=='Yes':\n",
        "        student_balance[i]=data['balance'][i]\n",
        "    else:\n",
        "        student_balance[i]=0\n",
        "student_balance1=list(filter(lambda num: num != 0, student_balance))"
      ],
      "id": "8120e690",
      "execution_count": null,
      "outputs": []
    },
    {
      "cell_type": "code",
      "metadata": {
        "id": "97382af7"
      },
      "source": [
        "#student_balance"
      ],
      "id": "97382af7",
      "execution_count": null,
      "outputs": []
    },
    {
      "cell_type": "code",
      "metadata": {
        "id": "12bebfd6"
      },
      "source": [
        "No_student_balance=[0]*len(df['student'])\n",
        "for i in range (0,len(df['student'])):\n",
        "    if df[\"student\"][i]=='No':\n",
        "        No_student_balance[i]=data['balance'][i]\n",
        "    else:\n",
        "        No_student_balance[i]=0\n",
        "No_student_balance1=list(filter(lambda num: num != 0, No_student_balance))"
      ],
      "id": "12bebfd6",
      "execution_count": null,
      "outputs": []
    },
    {
      "cell_type": "code",
      "metadata": {
        "scrolled": true,
        "id": "1f8d5ec6",
        "outputId": "08f624d2-f7e8-41cb-a7d4-269ae9386d1d"
      },
      "source": [
        "plt.boxplot([No_student_balance1,student_balance1],labels=('No','yes'),widths=0.8)\n",
        "plt.xlabel('student_status')\n",
        "plt.ylabel('credit_card_balance')"
      ],
      "id": "1f8d5ec6",
      "execution_count": null,
      "outputs": [
        {
          "data": {
            "text/plain": [
              "Text(0, 0.5, 'credit_card_balance')"
            ]
          },
          "execution_count": 12,
          "metadata": {},
          "output_type": "execute_result"
        },
        {
          "data": {
            "image/png": "[encoded data removed]",
            "text/plain": [
              "<Figure size 432x288 with 1 Axes>"
            ]
          },
          "metadata": {
            "needs_background": "light"
          },
          "output_type": "display_data"
        }
      ]
    },
    {
      "cell_type": "code",
      "metadata": {
        "id": "7e947541",
        "outputId": "dd1b5bba-2cfe-48aa-f0da-12550a6e9190"
      },
      "source": [
        "df['default'].unique()"
      ],
      "id": "7e947541",
      "execution_count": null,
      "outputs": [
        {
          "data": {
            "text/plain": [
              "array(['No', 'Yes'], dtype=object)"
            ]
          },
          "execution_count": 13,
          "metadata": {},
          "output_type": "execute_result"
        }
      ]
    },
    {
      "cell_type": "code",
      "metadata": {
        "id": "19694db2"
      },
      "source": [
        "Defualt_Binary_col=[0]*len(df['default'])\n",
        "for i in range (0,len(df['default'])):\n",
        "    if df['default'][i]=='Yes':\n",
        "        Defualt_Binary_col[i]=1\n",
        "    else:\n",
        "        Defualt_Binary_col[i]=0\n",
        "#Defualt_Binary_col        \n",
        "        "
      ],
      "id": "19694db2",
      "execution_count": null,
      "outputs": []
    },
    {
      "cell_type": "code",
      "metadata": {
        "id": "2aec33a6",
        "outputId": "23d1ab8b-4ee5-4085-d8bc-b462468d2925"
      },
      "source": [
        "print('Number_of_Ones_in_binary_col==',Defualt_Binary_col.count(1))\n",
        "print('Number_of_Zeroes_in_binary_col==',Defualt_Binary_col.count(0))"
      ],
      "id": "2aec33a6",
      "execution_count": null,
      "outputs": [
        {
          "name": "stdout",
          "output_type": "stream",
          "text": [
            "Number_of_Ones_in_binary_col== 333\n",
            "Number_of_Zeroes_in_binary_col== 9667\n"
          ]
        }
      ]
    },
    {
      "cell_type": "code",
      "metadata": {
        "id": "217eced6"
      },
      "source": [
        "response_variable=Defualt_Binary_col\n",
        "y=response_variable"
      ],
      "id": "217eced6",
      "execution_count": null,
      "outputs": []
    },
    {
      "cell_type": "code",
      "metadata": {
        "id": "72d26352",
        "outputId": "1af81632-ff67-40bf-fc42-b841b0a932f4"
      },
      "source": [
        "sns.countplot(x=y,data=df,palette='hls')"
      ],
      "id": "72d26352",
      "execution_count": null,
      "outputs": [
        {
          "data": {
            "text/plain": [
              "<AxesSubplot:ylabel='count'>"
            ]
          },
          "execution_count": 17,
          "metadata": {},
          "output_type": "execute_result"
        },
        {
          "data": {
            "image/png": "[encoded data removed]",
            "text/plain": [
              "<Figure size 432x288 with 1 Axes>"
            ]
          },
          "metadata": {
            "needs_background": "light"
          },
          "output_type": "display_data"
        }
      ]
    },
    {
      "cell_type": "markdown",
      "metadata": {
        "id": "8e2baef9"
      },
      "source": [
        "# percentage of No subscription"
      ],
      "id": "8e2baef9"
    },
    {
      "cell_type": "code",
      "metadata": {
        "id": "70f60358",
        "outputId": "71919ab9-59eb-40f6-effe-65c5e86f72b6"
      },
      "source": [
        "count_no_sub = Defualt_Binary_col.count(0)\n",
        "count_sub = Defualt_Binary_col.count(1)\n",
        "pct_of_no_sub = count_no_sub/(count_no_sub+count_sub)\n",
        "print(\"percentage of no subscription is\", pct_of_no_sub*100)\n",
        "pct_of_sub = count_sub/(count_no_sub+count_sub)\n",
        "print(\"percentage of subscription\", pct_of_sub*100)"
      ],
      "id": "70f60358",
      "execution_count": null,
      "outputs": [
        {
          "name": "stdout",
          "output_type": "stream",
          "text": [
            "percentage of no subscription is 96.67\n",
            "percentage of subscription 3.3300000000000005\n"
          ]
        }
      ]
    },
    {
      "cell_type": "markdown",
      "metadata": {
        "id": "3b8567fb"
      },
      "source": [
        "# Test Train Split"
      ],
      "id": "3b8567fb"
    },
    {
      "cell_type": "code",
      "metadata": {
        "id": "5993f347"
      },
      "source": [
        "#x=(np.array(df['balance'])).reshape(-1,1)\n",
        "income = pd.get_dummies(data['income'],drop_first=True)\n",
        "balance = pd.get_dummies(data['balance'],drop_first=True)\n",
        "data.drop(['default','student'],axis=1,inplace=True)\n",
        "df = pd.concat([income,balance,data],axis=1) \n",
        "x=df"
      ],
      "id": "5993f347",
      "execution_count": null,
      "outputs": []
    },
    {
      "cell_type": "code",
      "metadata": {
        "id": "3c90cb32"
      },
      "source": [
        "from sklearn.model_selection import train_test_split\n",
        "X_train, X_test, y_train, y_test = train_test_split(x,\n",
        "                                                    y, test_size=0.30, random_state=101)\n",
        "                                   "
      ],
      "id": "3c90cb32",
      "execution_count": null,
      "outputs": []
    },
    {
      "cell_type": "markdown",
      "metadata": {
        "id": "b14dba25"
      },
      "source": [
        "# Training and Predicting"
      ],
      "id": "b14dba25"
    },
    {
      "cell_type": "code",
      "metadata": {
        "id": "6a792ad8"
      },
      "source": [
        "from sklearn.linear_model import LogisticRegression\n",
        "logmodel = LogisticRegression()\n",
        "logmodel.fit(X_train,y_train)\n",
        "predictions = logmodel.predict(X_test)"
      ],
      "id": "6a792ad8",
      "execution_count": null,
      "outputs": []
    },
    {
      "cell_type": "markdown",
      "metadata": {
        "id": "f2e7e599"
      },
      "source": [
        "# Evaluation\n",
        "We can check precision, recall,f1-score using classification report"
      ],
      "id": "f2e7e599"
    },
    {
      "cell_type": "code",
      "metadata": {
        "id": "cf335c04",
        "outputId": "c95f7452-28d9-4437-9e09-d966715d635a"
      },
      "source": [
        "from sklearn.metrics import classification_report,accuracy_score\n",
        "print(classification_report(y_test,predictions))"
      ],
      "id": "cf335c04",
      "execution_count": null,
      "outputs": [
        {
          "name": "stdout",
          "output_type": "stream",
          "text": [
            "              precision    recall  f1-score   support\n",
            "\n",
            "           0       0.98      1.00      0.99      2906\n",
            "           1       0.88      0.30      0.44        94\n",
            "\n",
            "    accuracy                           0.98      3000\n",
            "   macro avg       0.93      0.65      0.72      3000\n",
            "weighted avg       0.97      0.98      0.97      3000\n",
            "\n"
          ]
        }
      ]
    },
    {
      "cell_type": "code",
      "metadata": {
        "scrolled": true,
        "id": "5214dfab",
        "outputId": "b944edd5-cc90-4672-b536-e963be7ee7c0"
      },
      "source": [
        "confusion_matrix(y_test,predictions)\n",
        "result2 = accuracy_score(y_test,predictions)\n",
        "print(\"Accuracy:\",result2)"
      ],
      "id": "5214dfab",
      "execution_count": null,
      "outputs": [
        {
          "name": "stdout",
          "output_type": "stream",
          "text": [
            "Accuracy: 0.9766666666666667\n"
          ]
        }
      ]
    }
  ]
}